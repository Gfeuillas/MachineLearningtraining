{
 "cells": [
  {
   "cell_type": "code",
   "execution_count": 8,
   "metadata": {},
   "outputs": [],
   "source": [
    "import pandas as pd\n",
    "from sklearn import datasets\n",
    "import sklearn.ensemble\n",
    "!pip install xgboost\n",
    "\n",
    "iris = datasets.load_iris()\n",
    "df = pd.DataFrame(iris.data, columns= iris.feature_names)\n",
    "df['target']= iris.target\n",
    "from sklearn.model_selection import train_test_split\n",
    "\n",
    "X_Tr, X_Te, Y_Tr, Y_Te = train_test_split(df.iloc[:,[0,1,2,3]], df.target\n",
    "                                 , random_state=0\n",
    "                                 , train_size=0.75)\n"
   ]
  },
  {
   "cell_type": "code",
   "execution_count": 15,
   "metadata": {},
   "outputs": [],
   "source": [
    "import xgboost as xgb\n",
    "\n",
    "dtrain = xgb.DMatrix(X_Tr, label=Y_Tr)\n",
    "dtest = xgb.DMatrix(X_Te, label=Y_Te)"
   ]
  },
  {
   "cell_type": "code",
   "execution_count": 41,
   "metadata": {},
   "outputs": [],
   "source": [
    "param = {\n",
    "    'max_depth': 10,  # the maximum depth of each tree\n",
    "    'eta': 0.3,  # the training step for each iteration\n",
    "    'silent': 1,  # logging mode - quiet\n",
    "    'objective': 'multi:softmax',  # error evaluation for multiclass training\n",
    "    'num_class': 3}  # the number of classes that exist in this datset\n",
    "num_round = 100 "
   ]
  },
  {
   "cell_type": "code",
   "execution_count": 46,
   "metadata": {},
   "outputs": [],
   "source": [
    "param2 = {\n",
    "    'max_depth': 10,  # the maximum depth of each tree\n",
    "    'eta': 0.3,  # the training step for each iteration\n",
    "    'silent': 1,  # logging mode - quiet\n",
    "    'objective': 'multi:softprob',  # error evaluation for multiclass training\n",
    "    'num_class': 3}  # the number of classes that exist in this datset\n",
    "num_round = 100 "
   ]
  },
  {
   "cell_type": "code",
   "execution_count": 47,
   "metadata": {},
   "outputs": [
    {
     "name": "stdout",
     "output_type": "stream",
     "text": [
      "[12:21:10] WARNING: C:\\Users\\Administrator\\workspace\\xgboost-win64_release_1.2.0\\src\\learner.cc:516: \n",
      "Parameters: { silent } might not be used.\n",
      "\n",
      "  This may not be accurate due to some parameters are only used in language bindings but\n",
      "  passed down to XGBoost core.  Or some parameters are not used but slip through this\n",
      "  verification. Please open an issue if you find above cases.\n",
      "\n",
      "\n",
      "[12:21:10] WARNING: C:\\Users\\Administrator\\workspace\\xgboost-win64_release_1.2.0\\src\\learner.cc:516: \n",
      "Parameters: { silent } might not be used.\n",
      "\n",
      "  This may not be accurate due to some parameters are only used in language bindings but\n",
      "  passed down to XGBoost core.  Or some parameters are not used but slip through this\n",
      "  verification. Please open an issue if you find above cases.\n",
      "\n",
      "\n"
     ]
    }
   ],
   "source": [
    "bst = xgb.train(param, dtrain, num_round)\n",
    "bst2= xgb.train(param2, dtrain, num_round)\n",
    "# bst.dump_model('dump.raw.txt')"
   ]
  },
  {
   "cell_type": "code",
   "execution_count": 51,
   "metadata": {},
   "outputs": [
    {
     "ename": "TypeError",
     "evalue": "len() takes no keyword arguments",
     "output_type": "error",
     "traceback": [
      "\u001b[1;31m---------------------------------------------------------------------------\u001b[0m",
      "\u001b[1;31mTypeError\u001b[0m                                 Traceback (most recent call last)",
      "\u001b[1;32m<ipython-input-51-e93ea0be6bb1>\u001b[0m in \u001b[0;36m<module>\u001b[1;34m\u001b[0m\n\u001b[0;32m      1\u001b[0m \u001b[0mpreds\u001b[0m \u001b[1;33m=\u001b[0m \u001b[0mbst\u001b[0m\u001b[1;33m.\u001b[0m\u001b[0mpredict\u001b[0m\u001b[1;33m(\u001b[0m\u001b[0mdtest\u001b[0m\u001b[1;33m)\u001b[0m\u001b[1;33m\u001b[0m\u001b[1;33m\u001b[0m\u001b[0m\n\u001b[1;32m----> 2\u001b[1;33m \u001b[0mlen\u001b[0m\u001b[1;33m(\u001b[0m\u001b[0mpreds2\u001b[0m\u001b[1;33m=\u001b[0m\u001b[0mbst2\u001b[0m\u001b[1;33m.\u001b[0m\u001b[0mpredict\u001b[0m\u001b[1;33m(\u001b[0m\u001b[0mdtest\u001b[0m\u001b[1;33m)\u001b[0m\u001b[1;33m)\u001b[0m\u001b[1;33m\u001b[0m\u001b[1;33m\u001b[0m\u001b[0m\n\u001b[0m",
      "\u001b[1;31mTypeError\u001b[0m: len() takes no keyword arguments"
     ]
    }
   ],
   "source": [
    "preds = bst.predict(dtest)\n",
    "preds2=bst2.predict(dtest)"
   ]
  },
  {
   "cell_type": "code",
   "execution_count": 57,
   "metadata": {},
   "outputs": [
    {
     "name": "stdout",
     "output_type": "stream",
     "text": [
      "[2. 1. 0. 2. 0. 2. 0. 1. 1. 1. 2. 1. 1. 1. 1. 0. 1. 1. 0. 0. 2. 1. 0. 0.\n",
      " 2. 0. 0. 1. 1. 0. 2. 1. 0. 2. 2. 1. 0. 2.]\n",
      "[[2.3126563e-03 1.8249478e-03 9.9586236e-01]\n",
      " [2.8632625e-03 9.8282987e-01 1.4306889e-02]\n",
      " [9.8627716e-01 1.2601318e-02 1.1214638e-03]\n",
      " [6.0758920e-04 2.3367377e-03 9.9705565e-01]\n",
      " [9.9412113e-01 4.7484501e-03 1.1303829e-03]\n",
      " [9.3993550e-04 3.4520321e-03 9.9560803e-01]\n",
      " [9.9412113e-01 4.7484501e-03 1.1303829e-03]\n",
      " [7.9321285e-04 9.9747556e-01 1.7312156e-03]\n",
      " [7.5617136e-04 9.9576277e-01 3.4811294e-03]\n",
      " [9.1507466e-04 9.9487227e-01 4.2126607e-03]\n",
      " [5.9610065e-03 5.6688916e-02 9.3735003e-01]\n",
      " [7.9325971e-04 9.9753451e-01 1.6721624e-03]\n",
      " [9.1507466e-04 9.9487227e-01 4.2126607e-03]\n",
      " [7.5213856e-04 9.9045217e-01 8.7957317e-03]\n",
      " [9.1737224e-04 9.9737024e-01 1.7123356e-03]\n",
      " [9.9412113e-01 4.7484501e-03 1.1303829e-03]\n",
      " [2.3249709e-03 9.9130428e-01 6.3707661e-03]\n",
      " [5.5524837e-03 9.8904371e-01 5.4037711e-03]\n",
      " [9.9386901e-01 4.7472455e-03 1.3837226e-03]\n",
      " [9.9412113e-01 4.7484501e-03 1.1303829e-03]\n",
      " [6.5496899e-03 9.9288419e-02 8.9416182e-01]\n",
      " [5.3191171e-03 9.9226177e-01 2.4191469e-03]\n",
      " [9.9412113e-01 4.7484501e-03 1.1303829e-03]\n",
      " [9.9344629e-01 5.1354389e-03 1.4182188e-03]\n",
      " [1.7123013e-03 9.0450667e-02 9.0783709e-01]\n",
      " [9.9412113e-01 4.7484501e-03 1.1303829e-03]\n",
      " [9.9412113e-01 4.7484501e-03 1.1303829e-03]\n",
      " [9.1737224e-04 9.9737024e-01 1.7123356e-03]\n",
      " [2.9108899e-02 9.4640648e-01 2.4484606e-02]\n",
      " [9.9412113e-01 4.7484501e-03 1.1303829e-03]\n",
      " [8.0576557e-04 2.9592761e-03 9.9623495e-01]\n",
      " [2.1181596e-02 9.6918499e-01 9.6334349e-03]\n",
      " [9.9412113e-01 4.7484501e-03 1.1303829e-03]\n",
      " [2.8914479e-03 1.5374920e-01 8.4335935e-01]\n",
      " [2.2859417e-04 8.7915378e-04 9.9889225e-01]\n",
      " [2.1095213e-02 9.5837462e-01 2.0530209e-02]\n",
      " [9.7920269e-01 1.9683866e-02 1.1134197e-03]\n",
      " [1.9203295e-03 5.4299985e-03 9.9264961e-01]]\n"
     ]
    }
   ],
   "source": [
    "print(preds)\n",
    "print(preds2)"
   ]
  },
  {
   "cell_type": "code",
   "execution_count": 38,
   "metadata": {},
   "outputs": [],
   "source": [
    "import numpy as np\n",
    "best_preds = np.asarray([np.argmax(line) for line in preds])"
   ]
  },
  {
   "cell_type": "code",
   "execution_count": 39,
   "metadata": {},
   "outputs": [
    {
     "data": {
      "text/plain": [
       "array([2, 1, 0, 2, 0, 2, 0, 1, 1, 1, 2, 1, 1, 1, 1, 0, 1, 1, 0, 0, 2, 1,\n",
       "       0, 0, 2, 0, 0, 1, 1, 0, 2, 1, 0, 2, 2, 1, 0, 2], dtype=int64)"
      ]
     },
     "execution_count": 39,
     "metadata": {},
     "output_type": "execute_result"
    }
   ],
   "source": [
    "best_preds"
   ]
  },
  {
   "cell_type": "code",
   "execution_count": 40,
   "metadata": {},
   "outputs": [
    {
     "name": "stdout",
     "output_type": "stream",
     "text": [
      "0.9666666666666667\n"
     ]
    }
   ],
   "source": [
    "from sklearn.metrics import precision_score\n",
    "\n",
    "print (precision_score(Y_Te, best_preds, average='macro'))"
   ]
  }
 ],
 "metadata": {
  "kernelspec": {
   "display_name": "Python 3",
   "language": "python",
   "name": "python3"
  },
  "language_info": {
   "codemirror_mode": {
    "name": "ipython",
    "version": 3
   },
   "file_extension": ".py",
   "mimetype": "text/x-python",
   "name": "python",
   "nbconvert_exporter": "python",
   "pygments_lexer": "ipython3",
   "version": "3.8.3"
  }
 },
 "nbformat": 4,
 "nbformat_minor": 4
}
